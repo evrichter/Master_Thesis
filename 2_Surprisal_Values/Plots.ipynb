{
 "cells": [
  {
   "cell_type": "code",
   "execution_count": 121,
   "id": "8ef4b266",
   "metadata": {},
   "outputs": [],
   "source": [
    "import numpy as np \n",
    "import matplotlib.pyplot as plt \n",
    "import csv\n",
    "import pandas as pd\n",
    "from statistics import mean "
   ]
  },
  {
   "cell_type": "code",
   "execution_count": 122,
   "id": "b64d5ce7",
   "metadata": {},
   "outputs": [],
   "source": [
    "gpt2_column_array = []\n",
    "\n",
    "with open(\"FollowUp_GPT2_surprisals.csv\", 'r') as file:\n",
    "    csvreader = csv.reader(file, delimiter=';')\n",
    "    \n",
    "    for row in csvreader:\n",
    "        gpt2_column = row[4]\n",
    "        gpt2_column_array.append(gpt2_column)\n",
    "    \n",
    "gpt2_column_array.pop(0)\n",
    "\n",
    "#print(gpt2_column_array)\n",
    "\n",
    "gpt2_column_array_each_sixthA = gpt2_column_array[0::6]\n",
    "gpt2_column_array_each_sixthB = gpt2_column_array[2::6]\n",
    "gpt2_column_array_each_sixthC = gpt2_column_array[4::6]\n",
    "gpt2_column_array_each_sixthAd = gpt2_column_array[1::6]\n",
    "gpt2_column_array_each_sixthBd = gpt2_column_array[3::6]\n",
    "gpt2_column_array_each_sixthCd = gpt2_column_array[5::6]\n",
    "\n",
    "mylist = []\n",
    "mylist.append(gpt2_column_array_each_sixthA)\n",
    "mylist.append(gpt2_column_array_each_sixthB)\n",
    "mylist.append(gpt2_column_array_each_sixthC)\n",
    "mylist.append(gpt2_column_array_each_sixthAd)\n",
    "mylist.append(gpt2_column_array_each_sixthBd)\n",
    "mylist.append(gpt2_column_array_each_sixthCd)\n",
    "# test = list(range(100))\n",
    "# test_each_sixth = test[0::6]\n",
    "\n",
    "#print(gpt2_column_array_each_sixth1)\n",
    "mylist = np.array(mylist, dtype = \"float64\")\n",
    "#print(mylist)"
   ]
  },
  {
   "cell_type": "code",
   "execution_count": 123,
   "id": "35571981",
   "metadata": {},
   "outputs": [],
   "source": [
    "#print(gpt2_column_array_each_sixth1\n",
    "#print(mylist)"
   ]
  },
  {
   "cell_type": "code",
   "execution_count": 124,
   "id": "0509c4f7",
   "metadata": {},
   "outputs": [],
   "source": [
    "#print(len(gpt2_column_array_each_sixth1))\n",
    "#print(len(gpt2_column_array_each_sixth2))\n",
    "#print(len(gpt2_column_array_each_sixth3))\n",
    "#print(len(gpt2_column_array_each_sixth4))\n",
    "#print(len(gpt2_column_array_each_sixth5))\n",
    "#print(len(gpt2_column_array_each_sixth6))\n"
   ]
  },
  {
   "cell_type": "code",
   "execution_count": 125,
   "id": "9bd772ee",
   "metadata": {},
   "outputs": [],
   "source": [
    "#a = [float(i) for i in gpt2_column_array_each_sixth6]"
   ]
  },
  {
   "cell_type": "code",
   "execution_count": 126,
   "id": "d21b1810",
   "metadata": {},
   "outputs": [],
   "source": [
    "#list_avg = mean(a) \n",
    "#print(list_avg)"
   ]
  },
  {
   "cell_type": "code",
   "execution_count": 127,
   "id": "728523fe",
   "metadata": {},
   "outputs": [
    {
     "name": "stdout",
     "output_type": "stream",
     "text": [
      "sum =  140.0779993494507\n",
      "average =  2.334633322490845\n",
      "sum =  244.34050808136817\n",
      "average =  4.072341801356136\n",
      "sum =  411.5914048072882\n",
      "average =  6.859856746788137\n",
      "sum =  421.0897805853747\n",
      "average =  7.018163009756245\n",
      "sum =  403.5666750178498\n",
      "average =  6.726111250297496\n",
      "sum =  458.49656009528553\n",
      "average =  7.641609334921426\n"
     ]
    }
   ],
   "source": [
    "average = np.array([])\n",
    "\n",
    "# Finding the sum\n",
    "for column_array in mylist:\n",
    "    count = 0\n",
    "    for number in column_array:\n",
    "        count += float(number) #???\n",
    "        \n",
    " \n",
    "# divide the total elements by\n",
    "# number of elements\n",
    "        avg = count/len(column_array)\n",
    "\n",
    "#avg_target_B = count/len(gpt2_column_array_each_sixth2)\n",
    "#avg_target_C = count/len(gpt2_column_array_each_sixth3)\n",
    "#avg_distractor_A = count/len(gpt2_column_array_each_sixth4)\n",
    "#avg_distractor_B = count/len(gpt2_column_array_each_sixth5)\n",
    "#avg_distractor_C = count/len(gpt2_column_array_each_sixth6)\n",
    " \n",
    "    print(\"sum = \", count)\n",
    "    print(\"average = \", avg)\n",
    "    average = np.append(average, avg)\n",
    "#print(\"sum = \", count)\n",
    "#print(\"average_target_B = \", avg_target_B)\n",
    "#print(\"sum = \", count)\n",
    "#print(\"average_target_C = \", avg_target_C)\n",
    "#print(\"sum = \", count)\n",
    "#print(\"average_distractor_A = \", avg_distractor_A)\n",
    "#print(\"sum = \", count)\n",
    "#print(\"average_distractor_B = \", avg_distractor_B)\n",
    "#print(\"sum = \", count)\n",
    "#print(\"average_distractor_C = \", avg_distractor_A)\n",
    "\n"
   ]
  },
  {
   "cell_type": "code",
   "execution_count": 128,
   "id": "258201b8",
   "metadata": {},
   "outputs": [],
   "source": [
    "target_average = average[0:3]"
   ]
  },
  {
   "cell_type": "code",
   "execution_count": 129,
   "id": "fd4fa8bd",
   "metadata": {},
   "outputs": [
    {
     "data": {
      "image/png": "[encoded data removed]",
      "text/plain": [
       "<Figure size 720x360 with 1 Axes>"
      ]
     },
     "metadata": {
      "needs_background": "light"
     },
     "output_type": "display_data"
    }
   ],
   "source": [
    "#plot 6 average surprisal values\n",
    "ind = np.arange(3)\n",
    "width = 0.25\n",
    "\n",
    "fig, ax = plt.subplots(figsize=(10,5))\n",
    "rects1 = ax.bar(ind - 0.5*width,average[0:3],width,label='target')\n",
    "rects2 = ax.bar(ind + 0.5*width,average[3:6],width,label='distractor')\n",
    "\n",
    "ax.set_xticks(ind)\n",
    "ax.set_xticklabels(('A','B','C'),fontsize=14)\n",
    "ax.legend(fontsize=14)\n",
    "plt.yticks(size=14)\n",
    "plt.ylabel('surprisal values',size=14)\n",
    "plt.ylim(0,9)\n",
    "plt.title(\"surprisal values unseparated (without whitespace)\")\n",
    "plt.tight_layout()\n",
    "plt.savefig('surpisal_unseparated.jpg')"
   ]
  },
  {
   "cell_type": "markdown",
   "id": "7eb618b6",
   "metadata": {},
   "source": [
    "##### "
   ]
  },
  {
   "cell_type": "code",
   "execution_count": null,
   "id": "9d6b7a31",
   "metadata": {},
   "outputs": [],
   "source": []
  }
 ],
 "metadata": {
  "kernelspec": {
   "display_name": "Python 3 (ipykernel)",
   "language": "python",
   "name": "python3"
  },
  "language_info": {
   "codemirror_mode": {
    "name": "ipython",
    "version": 3
   },
   "file_extension": ".py",
   "mimetype": "text/x-python",
   "name": "python",
   "nbconvert_exporter": "python",
   "pygments_lexer": "ipython3",
   "version": "3.10.12"
  }
 },
 "nbformat": 4,
 "nbformat_minor": 5
}
